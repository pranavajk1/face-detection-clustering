{
 "cells": [
  {
   "cell_type": "code",
   "execution_count": 8,
   "metadata": {},
   "outputs": [],
   "source": [
    "import cv2\n",
    "import numpy as np\n",
    "import argparse\n",
    "import json\n",
    "import os\n",
    "import sys\n",
    "import math\n",
    "import face_recognition\n",
    "from numba import jit, cuda\n",
    "\n",
    "from typing import Dict, List\n",
    "from utils import show_image"
   ]
  },
  {
   "cell_type": "code",
   "execution_count": 9,
   "metadata": {},
   "outputs": [],
   "source": [
    "def parse_args():\n",
    "    parser = argparse.ArgumentParser(description=\"cse 473/573 project 3.\")\n",
    "    parser.add_argument(\n",
    "        \"--input_path\", type=str, default=\"validation_folder/images\",\n",
    "        help=\"path to validation or test folder\")\n",
    "    parser.add_argument(\n",
    "        \"--output\", type=str, default=\"./result_task1.json\",\n",
    "        help=\"path to the characters folder\")\n",
    "\n",
    "    args = parser.parse_args()"
   ]
  },
  {
   "cell_type": "code",
   "execution_count": 10,
   "metadata": {},
   "outputs": [],
   "source": [
    "def check_output_format(faces, img, img_name):\n",
    "    if not isinstance(faces, list):\n",
    "        print('Wrong output type for image %s! Should be a %s, but you get %s.' % (img_name, list, type(faces)))\n",
    "        return False\n",
    "    for i, face in enumerate(faces):\n",
    "        if not isinstance(face, list):\n",
    "            print('Wrong bounding box type in image %s the %dth face! Should be a %s, but you get %s.' % (img_name, i, list, type(face)))\n",
    "            return False\n",
    "        if not len(face) == 4:\n",
    "            print('Wrong bounding box format in image %s the %dth face! The length should be %s , but you get %s.' % (img_name, i, 4, len(face)))\n",
    "            return False\n",
    "        for j, num in enumerate(face):\n",
    "            if not isinstance(num, float):\n",
    "                print('Wrong bounding box type in image %s the %dth face! Should be a list of %s, but you get a list of %s.' % (img_name, i, float, type(num)))\n",
    "                return False\n",
    "        if face[0] >= img.shape[1] or face[1] >= img.shape[0] or face[0] + face[2] >= img.shape[1] or face[1] + face[3] >= img.shape[0]:\n",
    "            print('Warning: Wrong bounding box in image %s the %dth face exceeds the image size!' % (img_name, i))\n",
    "            print('One possible reason of this is incorrect bounding box format. The format should be [topleft-x, topleft-y, box-width, box-height] in pixels.')\n",
    "    return True"
   ]
  },
  {
   "cell_type": "code",
   "execution_count": 26,
   "metadata": {},
   "outputs": [],
   "source": [
    "def detect_faces(img: np.ndarray) -> List[List[float]]:\n",
    "    \"\"\"\n",
    "    Args:\n",
    "        img : input image is an np.ndarray represent an input image of shape H x W x 3.\n",
    "            H is the height of the image, W is the width of the image. 3 is the [R, G, B] channel (NOT [B, G, R]!).\n",
    "\n",
    "    Returns:\n",
    "        detection_results: a python nested list. \n",
    "            Each element is the detected bounding boxes of the faces (may be more than one faces in one image).\n",
    "            The format of detected bounding boxes a python list of float with length of 4. It should be formed as \n",
    "            [topleft-x, topleft-y, box-width, box-height] in pixels.\n",
    "    \"\"\"\n",
    "    detection_results: List[List[float]] = [] # Please make sure your output follows this data format.\n",
    "\n",
    "    # Add your code here. Do not modify the return and input arguments.\n",
    "    gray_image = cv2.cvtColor(img, cv2.COLOR_RGB2GRAY)\n",
    "    face_locations = face_recognition.face_locations(gray_image)\n",
    "    for face_location in face_locations:\n",
    "        top, right, bottom, left = face_location\n",
    "        detection_results.append([float(left), float(top), float(right - left), float(bottom - top)])\n",
    "    return detection_results"
   ]
  },
  {
   "cell_type": "code",
   "execution_count": 28,
   "metadata": {},
   "outputs": [
    {
     "name": "stdout",
     "output_type": "stream",
     "text": [
      "Warning: Wrong bounding box in image img_60.jpg the 0th face exceeds the image size!\n",
      "One possible reason of this is incorrect bounding box format. The format should be [topleft-x, topleft-y, box-width, box-height] in pixels.\n"
     ]
    }
   ],
   "source": [
    "res = {}\n",
    "for img_name in sorted(os.listdir('validation_folder/images')):\n",
    "    img_path = os.path.join('validation_folder/images', img_name)\n",
    "    img = cv2.imread(img_path)\n",
    "    img = cv2.cvtColor(img, cv2.COLOR_BGR2RGB)\n",
    "    faces = detect_faces(img)\n",
    "    if not check_output_format(faces, img, img_name):\n",
    "        print('Wrong output format!')\n",
    "        sys.exit(2)\n",
    "    res[img_name] = faces"
   ]
  }
 ],
 "metadata": {
  "kernelspec": {
   "display_name": "CVIP",
   "language": "python",
   "name": "python3"
  },
  "language_info": {
   "codemirror_mode": {
    "name": "ipython",
    "version": 3
   },
   "file_extension": ".py",
   "mimetype": "text/x-python",
   "name": "python",
   "nbconvert_exporter": "python",
   "pygments_lexer": "ipython3",
   "version": "3.10.8"
  },
  "orig_nbformat": 4,
  "vscode": {
   "interpreter": {
    "hash": "e455403d48d2411c4364dc4d1e6da50b16c2b1c9242041d15c0ef73dfe4003b4"
   }
  }
 },
 "nbformat": 4,
 "nbformat_minor": 2
}
