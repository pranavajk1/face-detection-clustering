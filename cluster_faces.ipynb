{
 "cells": [
  {
   "cell_type": "code",
   "execution_count": 2,
   "metadata": {},
   "outputs": [],
   "source": [
    "import cv2\n",
    "import numpy as np\n",
    "import os\n",
    "import sys\n",
    "import math\n",
    "\n",
    "import face_recognition\n",
    "\n",
    "from typing import Dict, List\n",
    "from utils import show_image"
   ]
  },
  {
   "cell_type": "code",
   "execution_count": 26,
   "metadata": {},
   "outputs": [],
   "source": [
    "imgs = {}\n",
    "for img_name in sorted(os.listdir('validation_folder/images')):\n",
    "    img_path = os.path.join('validation_folder/images', img_name)\n",
    "    img = cv2.imread(img_path)\n",
    "    img = cv2.cvtColor(img, cv2.COLOR_BGR2RGB)\n",
    "    imgs[img_name] = img"
   ]
  },
  {
   "cell_type": "code",
   "execution_count": 34,
   "metadata": {},
   "outputs": [],
   "source": [
    "K = 5"
   ]
  },
  {
   "cell_type": "code",
   "execution_count": 35,
   "metadata": {},
   "outputs": [],
   "source": [
    "cluster_results: List[List[str]] = [[]] * K "
   ]
  },
  {
   "cell_type": "code",
   "execution_count": 122,
   "metadata": {},
   "outputs": [],
   "source": [
    "def get_distance(face_encoding: np.ndarray, centroids: np.ndarray):\n",
    "    distances = []\n",
    "    for centroid in centroids:\n",
    "        distance = np.linalg.norm(face_encoding - centroid)\n",
    "        distances.append(distance)\n",
    "    return distances"
   ]
  },
  {
   "cell_type": "code",
   "execution_count": 120,
   "metadata": {},
   "outputs": [],
   "source": [
    "def get_centroids(face_encodings: dict, cluster_results):\n",
    "    centroids = []\n",
    "    for cluster in cluster_results:\n",
    "        cluster_images = [face_encodings[i] for i in cluster]\n",
    "        cluster_images = np.array(cluster_images)\n",
    "        cluster_images = np.reshape(cluster_images, (cluster_images.shape[0], 128))  \n",
    "        centroids.append(np.reshape(np.mean(cluster_images, axis=0), (1, 128)))\n",
    "    centroids = np.array(centroids)\n",
    "    centroids = np.reshape(centroids, (centroids.shape[0], 128))\n",
    "    return np.array(centroids)"
   ]
  },
  {
   "cell_type": "code",
   "execution_count": 92,
   "metadata": {},
   "outputs": [],
   "source": [
    "# Do not use this function\n",
    "# def get_cluster_results_temp(face_encodings: dict, centroids: dict, K):\n",
    "#     cluster_results = [[] for i in range(K)]\n",
    "#     for i in range(face_encodings.shape[0]):\n",
    "#         face_encoding = face_encodings[i]\n",
    "#         distances = get_distance(face_encoding, centroids)\n",
    "#         cluster_results[np.argmin(distances)].append(i)\n",
    "#     return cluster_results"
   ]
  },
  {
   "cell_type": "code",
   "execution_count": 91,
   "metadata": {},
   "outputs": [],
   "source": [
    "def get_cluster_results(face_encodings: dict, centroids: np.ndarray, K: int):\n",
    "    cluster_results = [[] for i in range(K)]\n",
    "    for i in face_encodings.keys():\n",
    "        face_encoding = face_encodings[i]\n",
    "        distances = get_distance(face_encoding, centroids)\n",
    "        cluster_results[np.argmin(distances)].append(i)\n",
    "    return cluster_results"
   ]
  },
  {
   "cell_type": "code",
   "execution_count": 109,
   "metadata": {},
   "outputs": [],
   "source": [
    "count = 0\n",
    "face_encoding_results = {}\n",
    "face_encodings = np.array([]).reshape(0, 128)\n",
    "for img_name in imgs.keys():\n",
    "    face_encoding = np.array(face_recognition.face_encodings(imgs[img_name]))\n",
    "    if face_encoding.shape[0] == 0:\n",
    "        count += 1\n",
    "        continue\n",
    "    face_encodings = np.concatenate((face_encodings, face_encoding), axis=0)\n",
    "    if face_encoding.shape[0] > 1:\n",
    "        for i in range(face_encoding.shape[0]):\n",
    "            face_encoding_results[img_name + '_' + str(i)] = np.reshape(face_encoding[i], (1, 128))\n",
    "    else:\n",
    "        face_encoding_results[img_name] = np.reshape(face_encoding, (1, 128))"
   ]
  },
  {
   "cell_type": "code",
   "execution_count": 126,
   "metadata": {},
   "outputs": [
    {
     "data": {
      "text/plain": [
       "(5, 128)"
      ]
     },
     "execution_count": 126,
     "metadata": {},
     "output_type": "execute_result"
    }
   ],
   "source": [
    "centroids = []\n",
    "centroids_names = np.random.choice(np.array(list(face_encoding_results.keys())), K, replace=False)\n",
    "for n in centroids_names:\n",
    "    centroids.append(face_encoding_results[n])\n",
    "\n",
    "centroids = np.array(centroids)\n",
    "centroids = np.reshape(centroids, (centroids.shape[0], 128))\n",
    "centroids.shape"
   ]
  },
  {
   "cell_type": "code",
   "execution_count": 123,
   "metadata": {},
   "outputs": [],
   "source": [
    "cluster_results = get_cluster_results(face_encoding_results, centroids, K)"
   ]
  },
  {
   "cell_type": "code",
   "execution_count": 119,
   "metadata": {},
   "outputs": [
    {
     "data": {
      "text/plain": [
       "(1, 128)"
      ]
     },
     "execution_count": 119,
     "metadata": {},
     "output_type": "execute_result"
    }
   ],
   "source": [
    "cluster1 = cluster_results[0]\n",
    "cluster_images = [face_encoding_results[i] for i in cluster1]\n",
    "cluster_images = np.array(cluster_images)\n",
    "cluster_images = np.reshape(cluster_images, (cluster_images.shape[0], 128))  \n",
    "c = np.reshape(np.mean(cluster_images, axis=0), (1, 128))\n",
    "c.shape"
   ]
  },
  {
   "cell_type": "code",
   "execution_count": 124,
   "metadata": {},
   "outputs": [
    {
     "name": "stderr",
     "output_type": "stream",
     "text": [
      "c:\\Users\\prana\\.conda\\envs\\CVIP\\lib\\site-packages\\numpy\\core\\numeric.py:2440: VisibleDeprecationWarning: Creating an ndarray from ragged nested sequences (which is a list-or-tuple of lists-or-tuples-or ndarrays with different lengths or shapes) is deprecated. If you meant to do this, you must specify 'dtype=object' when creating the ndarray.\n",
      "  a1, a2 = asarray(a1), asarray(a2)\n"
     ]
    }
   ],
   "source": [
    "while True:\n",
    "    new_centroids = get_centroids(face_encoding_results, cluster_results)\n",
    "    new_cluster_results = get_cluster_results(face_encoding_results, new_centroids, K)\n",
    "    if np.array_equal(cluster_results, new_cluster_results):\n",
    "        break\n",
    "    cluster_results = new_cluster_results"
   ]
  }
 ],
 "metadata": {
  "kernelspec": {
   "display_name": "Python 3.10.8 ('CVIP')",
   "language": "python",
   "name": "python3"
  },
  "language_info": {
   "codemirror_mode": {
    "name": "ipython",
    "version": 3
   },
   "file_extension": ".py",
   "mimetype": "text/x-python",
   "name": "python",
   "nbconvert_exporter": "python",
   "pygments_lexer": "ipython3",
   "version": "3.10.8"
  },
  "orig_nbformat": 4,
  "vscode": {
   "interpreter": {
    "hash": "a5533bf7818754480477a9283fe72199fb4d0a43b751ea4750f1eec13c3f3b4c"
   }
  }
 },
 "nbformat": 4,
 "nbformat_minor": 2
}
